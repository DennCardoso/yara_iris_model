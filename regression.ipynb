{
 "nbformat": 4,
 "nbformat_minor": 2,
 "metadata": {
  "language_info": {
   "name": "python",
   "codemirror_mode": {
    "name": "ipython",
    "version": 3
   },
   "version": "3.6.9"
  },
  "orig_nbformat": 2,
  "file_extension": ".py",
  "mimetype": "text/x-python",
  "name": "python",
  "npconvert_exporter": "python",
  "pygments_lexer": "ipython3",
  "version": 3
 },
 "cells": [
  {
   "cell_type": "code",
   "metadata": {},
   "outputs": [],
   "source": [
    "# Import dependencies\n",
    "\n",
    "import matplotlib.pyplot as plt\n",
    "import seaborn as sns\n",
    "import numpy as np \n",
    "from sklearn.linear_model import LogisticRegression\n",
    "from sklearn.metrics import classification_report\n",
    "from sklearn.metrics import accuracy_score\n",
    "from sklearn.model_selection import train_test_split\n",
    "from sklearn.externals import joblib\n",
    "import pickle"
   ]
  },
  {
   "cell_type": "code",
   "metadata": {},
   "outputs": [],
   "source": [
    "# Load de dataset \n",
    "data = sns.load_dataset('iris')\n",
    "data.head()"
   ]
  },
  {
   "cell_type": "code",
   "metadata": {},
   "outputs": [],
   "source": [
    "# Prepare the training\n",
    "# X = feature values, all the columns except the last column\n",
    "x = data.iloc[:, :-1]\n",
    "print(x)"
   ]
  },
  {
   "cell_type": "code",
   "metadata": {},
   "outputs": [],
   "source": [
    "# y = target values, last column of the data frame\n",
    "y = data.iloc[:, -1]\n",
    "print(y)"
   ]
  },
  {
   "cell_type": "code",
   "metadata": {},
   "outputs": [],
   "source": [
    "# Plot the relation of each feature with each species\n",
    "\n",
    "plt.xlabel('Features')\n",
    "plt.ylabel('Species')\n",
    "\n",
    "pltX = data.loc[:, 'sepal_length']\n",
    "pltY = data.loc[:,'species']\n",
    "plt.scatter(pltX, pltY, color='blue', label='sepal_length')\n",
    "\n",
    "pltX = data.loc[:, 'sepal_width']\n",
    "pltY = data.loc[:,'species']\n",
    "plt.scatter(pltX, pltY, color='green', label='sepal_width')\n",
    "\n",
    "pltX = data.loc[:, 'petal_length']\n",
    "pltY = data.loc[:,'species']\n",
    "plt.scatter(pltX, pltY, color='red', label='petal_length')\n",
    "\n",
    "pltX = data.loc[:, 'petal_width']\n",
    "pltY = data.loc[:,'species']\n",
    "plt.scatter(pltX, pltY, color='black', label='petal_width')\n",
    "\n",
    "plt.legend(loc=4, prop={'size':8})\n",
    "plt.show()"
   ]
  },
  {
   "cell_type": "code",
   "metadata": {},
   "outputs": [],
   "source": [
    "# Split the data into 80% training and 20% testing\n",
    "x_train, x_test, y_train, y_test = train_test_split(X, y, test_size=0.2, random_state=42)"
   ]
  },
  {
   "cell_type": "code",
   "metadata": {},
   "outputs": [],
   "source": [
    "#Train the model\n",
    "model = LogisticRegression(max_iter=1000)"
   ]
  },
  {
   "cell_type": "code",
   "metadata": {},
   "outputs": [],
   "source": [
    "# Training the model\n",
    "model.fit(x_train, y_train) "
   ]
  },
  {
   "cell_type": "code",
   "metadata": {},
   "outputs": [],
   "source": [
    "pickle.dump(model, open('model.pkl', 'wb'))"
   ]
  }
 ]
}